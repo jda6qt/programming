{
 "cells": [
  {
   "cell_type": "markdown",
   "id": "1f8509f4",
   "metadata": {},
   "source": [
    "# Assignment 0: Programming Review\n",
    "## Q1 and Q3\n",
    "#### Hanna Svenson (jda6qt)"
   ]
  },
  {
   "cell_type": "markdown",
   "id": "8ad3293b",
   "metadata": {},
   "source": [
    "**Q1.** First, think about your priorities in life. What kind of salary do you want to make after graduation? Do you mind getting more schooling? What kind of work-life balance are you looking for? Where do you want to work, geographically? You don't have to write this down here, just think about it.\n",
    "\n",
    "1. Go to the Occupational Outlook Handbook at [https://www.bls.gov/ooh/](https://www.bls.gov/ooh/). Look up \"Data Scientist.\" Read about the job and start collecting data about it from the job profile (e.g. salary, education required, work setting)\n",
    "2. Find 7-10 other jobs that appeal to you, and collect the same data as you did for Data Scientist. Put it all in a spreadsheet.\n",
    "3. Do any of your findings surprise you?\n",
    "4. Rank the jobs you picked from best to worst, and briefly explain why you did so.\n",
    "5. Please submit your spreadsheet with the assignment --- you can \"de-identify\" it and remove anything that you find personally identifying or you don't want to share, of course. We'll play with these data later.\n"
   ]
  },
  {
   "cell_type": "markdown",
   "id": "b8db1227",
   "metadata": {},
   "source": [
    "I was surprised by how much actuaries make, especially compared to financial analysts, because they seem to have a lot of overlap in the skills that would be applied in their jobs. \n",
    "\n",
    "I ranked the job listings based mostly on my level of interest in the job, what my educational and professional experiences best match to, and the salary to some extent. Ultimately I ranked Software Developer as my first choice, as I have done internships in this field in the past, and expect to work in this role when I graduate. "
   ]
  },
  {
   "cell_type": "markdown",
   "id": "354b2925",
   "metadata": {},
   "source": [
    "**Q3.** This is a basic review of some statistics along with practice writing functions. Like we talked about, Python is a general purpose programming language and ships without basic data handling or statistical packages coded in. The beginning of the code chunk below generates random values for you to test your work on; since the random values are generates as NumPy arrays, you'll need to use the Numpy methods `np.sum(x)` to sum the vector $x$ and `np.sqrt(x)` to take the square roots of the values in $x$, as well as the Python function `len(x)` to get the length of $x$.\n",
    "\n",
    "Try to reuse the functions you've already defined as you work through the following questions, rather than rewriting code you've already written.\n",
    "\n",
    "1. Write a function that computes the **sample average** or **mean** of a vector $x$,\n",
    "$$\n",
    "\\bar{x} = \\dfrac{x_1 + x_2 + ... + x_N}{N} = \\dfrac{\\sum_{i=1}^N x_i}{N}.\n",
    "$$\n",
    "Write a function in the code chunk below to compute this quantity, and then use it to compute the mean of $x$.\n",
    "2. Write a function that computes the **sample standard deviation** of a vector $x$,\n",
    "$$\n",
    "s_x = \\sqrt{\\dfrac{(x_1 - \\bar{x})^2 + ... (x_N - \\bar{x})^2 }{N-1}} = \\sqrt{\\dfrac{ \\sum_{i=1}^N (x_i - \\bar{x})^2 }{N-1}}.\n",
    "$$\n",
    "The intuition of this quantity is that it computes roughly the average distance from each point $x_i$ to the sample mean $\\bar{x}$. If it is small, it means all the points are clustered tightly around the mean, and if it is large, it means the points are typically far away from the average. Write a function in the code chunk below to compute this quantity, and then use it to compute the sample standard deviation of $x$.\n",
    "3. Write a function that calls the previous two to **standardize** the values of the vector as a **$z$-score**:\n",
    "$$\n",
    "z = \\dfrac{x-\\bar{x}}{s}.\n",
    "$$\n",
    "The intuition of this quantity is that it is recentering all the values of $x$ so the average is zero and then scaling them by the standard deviation. If the data are normally distributed and $N$ is large, the $z$ score will approximately follow a standard normal distribution. Write a function in the code chunk below to compute this quantity, and then use it to compute the z-scores for $x$.\n",
    "4. The **sample covariance** of two vectors $x=(x_1,...,x_N)$ and $y=(y_1,...,y_N)$ is defined as\n",
    "$$\n",
    "cov(x,y) = \\dfrac{(x_1 - \\bar{x})(y_1-\\bar{y}) + (x_2 - \\bar{x})(y_2-\\bar{y}) + ... + (x_N - \\bar{x})(y_{N}-\\bar{y})}{N-1}\n",
    "$$\n",
    "$$\n",
    "= \\dfrac{\\sum_{i=1}^N (x_i - \\bar{x})(y_i - \\bar{y})}{N-1}.\n",
    "$$\n",
    "The intuition of this quantity is that it looks at the pairs $(x_i, y_i)$ and compares them to the means $(\\bar{x},\\bar{y})$ to determine whether $x$ and $y$ tend to co-vary in the same direction relative to their means: If the values of $x$ and $y$ are typically both above or below the mean values of $x$ and $y$, then $x$ and $y$ will have a positive covariance, but if $x$ is typically above the mean of $x$ when $y$ is typically below the mean of $y$ or vice versa, then they will have a negative covariance. Write a function in the code chunk below to compute this quantity, and then use it to compute the covariance of the generated $x$ and $y$.\n",
    "6. The **sample correlation coefficient** of two vectors $x$ and $y$ is defined as\n",
    "$$\n",
    "r_{xy} = \\dfrac{cov(x,y)}{s_x s_y}\n",
    "$$\n",
    "Use your functions to create a new function that compute this quantity. The intuition of this quantity is that it is like the covariance, but normalized so that its values like between -1 and 1: perfect negative linear association between the variables at -1, no association at 0, and perfect positive linear association between the variables at 1. \n",
    "    "
   ]
  },
  {
   "cell_type": "code",
   "execution_count": 1,
   "id": "2e20bcd7",
   "metadata": {},
   "outputs": [
    {
     "name": "stdout",
     "output_type": "stream",
     "text": [
      "#1: Mean of x:  -1.0899806430403438\n",
      "#2: Stdev of x:  3.2847981697718236\n",
      "#3: Z-score of first x:  1.6552974299794228\n",
      "#4: Covariance:  -2.8396505928938773\n",
      "#5: Correlation coefficient:  -0.42205093921264875\n"
     ]
    }
   ],
   "source": [
    "import numpy as np\n",
    "import math as math\n",
    "np.random.seed(100) # Set the seed for the random number generator\n",
    "rho, sigma_x, sigma_y = -.4, 3, 2 # Variance-Covariance Parameters\n",
    "vcv = np.array([[sigma_x**2, rho*sigma_x*sigma_y],\n",
    "                [rho*sigma_x*sigma_y,sigma_y**2]]) # VCV Matrix\n",
    "mu = np.array([-1,2]) # Population averages\n",
    "sample = np.random.multivariate_normal(mu,vcv,200) # Multivariate normal draws\n",
    "x = sample[:,0]\n",
    "y = sample[:,1]\n",
    "\n",
    "#############################################################################\n",
    "#1\n",
    "def mean(x):   \n",
    "    mean = np.sum(x)/len(x)  \n",
    "    return mean   \n",
    "\n",
    "#2\n",
    "def stdev(x):\n",
    "    m = mean(x)\n",
    "    var = np.sum((x-m)**2)/(len(x)-1)\n",
    "    stdev=np.sqrt(var)\n",
    "    return stdev\n",
    "\n",
    "#3\n",
    "def z_score(x):\n",
    "    z=(x-mean(x))/stdev(x)\n",
    "    return z\n",
    "\n",
    "#4\n",
    "def covariance(x,y):\n",
    "    x_bar = mean(x)\n",
    "    y_bar = mean(y)\n",
    "    N = len(x)\n",
    "    cov = np.sum((x-mean(x))*(y-mean(y)))/(N-1)\n",
    "    return cov\n",
    "\n",
    "#5\n",
    "def corr_coeff(x,y):\n",
    "    r=covariance(x,y)/(stdev(x)*stdev(y))\n",
    "    return r\n",
    "\n",
    "# Results\n",
    "print('#1: Mean of x: ', mean(x))\n",
    "print('#2: Stdev of x: ', stdev(x))\n",
    "print('#3: Z-score of first x: ', z_score(x)[0])\n",
    "print('#4: Covariance: ', covariance(x,y))\n",
    "print('#5: Correlation coefficient: ', corr_coeff(x,y))\n"
   ]
  }
 ],
 "metadata": {
  "kernelspec": {
   "display_name": "Python 3 (ipykernel)",
   "language": "python",
   "name": "python3"
  },
  "language_info": {
   "codemirror_mode": {
    "name": "ipython",
    "version": 3
   },
   "file_extension": ".py",
   "mimetype": "text/x-python",
   "name": "python",
   "nbconvert_exporter": "python",
   "pygments_lexer": "ipython3",
   "version": "3.11.4"
  }
 },
 "nbformat": 4,
 "nbformat_minor": 5
}
